{
 "cells": [
  {
   "cell_type": "markdown",
   "id": "df6e1bc8",
   "metadata": {},
   "source": [
    "### Problem Definition: Alphabet Recognition\n",
    "\n",
    "#### Dataset: https://www.kaggle.com/datasets/sachinpatel21/az-handwritten-alphabets-in-csv-format"
   ]
  },
  {
   "cell_type": "code",
   "execution_count": 1,
   "id": "5502c049",
   "metadata": {},
   "outputs": [
    {
     "data": {
      "text/html": [
       "<style>.container { width:80% !important; }</style>"
      ],
      "text/plain": [
       "<IPython.core.display.HTML object>"
      ]
     },
     "metadata": {},
     "output_type": "display_data"
    }
   ],
   "source": [
    "import pandas as pd\n",
    "import numpy as np\n",
    "import seaborn as sns\n",
    "import matplotlib.pyplot as plt\n",
    "\n",
    "## Ignoring warnings\n",
    "import warnings\n",
    "warnings.filterwarnings('ignore')\n",
    "\n",
    "## Updating width of Jupyter notebook\n",
    "from IPython.core.display import display, HTML\n",
    "display(HTML(\"<style>.container { width:80% !important; }</style>\"))\n",
    "pd.set_option('display.max_colwidth', 2000)\n",
    "pd.options.display.max_seq_items = 2000\n",
    "pd.options.display.max_rows = 4000"
   ]
  },
  {
   "cell_type": "markdown",
   "id": "ac051ad1",
   "metadata": {},
   "source": [
    "img_data = pd.read_csv('A_Z Handwritten Data.csv')\n",
    "img_data.head(2)"
   ]
  },
  {
   "cell_type": "code",
   "execution_count": 2,
   "id": "1b8145f8",
   "metadata": {},
   "outputs": [],
   "source": [
    "from emnist import extract_training_samples, extract_test_samples\n",
    "\n",
    "X_train, y_train = extract_training_samples('letters')\n",
    "X_test, y_test = extract_test_samples('letters')"
   ]
  },
  {
   "cell_type": "code",
   "execution_count": 3,
   "id": "254b5c6f",
   "metadata": {},
   "outputs": [
    {
     "name": "stdout",
     "output_type": "stream",
     "text": [
      "[[  0   0   0   0   0   0   0   0   0   0   0   0   0   0   0   0   0   0\n",
      "    0   0   0   0   0   0   0   0   0   0]\n",
      " [  0   0   0   0   3   4   0   0   0   0   0   0   0   0   0   0   0   0\n",
      "    0   0   0   0   0   0   0   0   0   0]\n",
      " [  0   0   0  20 109 114  45   0   0   0   0   0   0   0   0   0   0   0\n",
      "    0   0   0   0   0   0   0   0   0   0]\n",
      " [  0   0   0 114 245 253 214   5   0   0   0   0   0  20 100  33   1   0\n",
      "    0   0   0   0   0   0   0   0   0   0]\n",
      " [  0   0   0 125 249 254 233  22   0   0   0   0  10 123 238 163  33   0\n",
      "    0   0   0   2   4   4   0   0   0   0]\n",
      " [  0   0   0  82 233 254 251  82   2   0   0   3  79 220 254 244 126   0\n",
      "    0   0   3  77 125 113   8   0   0   0]\n",
      " [  0   0   0  37 217 254 254 128   5   0   0  34 204 254 255 254 216   5\n",
      "    0  22 154 247 254 253 111   3   0   0]\n",
      " [  0   0   0  37 217 254 254 160  16   0   3  84 233 254 255 254 233  22\n",
      "   10  95 232 254 254 246  77   2   0   0]\n",
      " [  0   0   0  39 217 254 254 184  25   0  34 175 251 254 255 254 250  82\n",
      "  128 221 253 255 252 177   8   0   0   0]\n",
      " [  0   0   0 115 245 254 254 217  37   9 175 251 254 255 255 255 254 251\n",
      "  254 254 254 254 232 109   0   0   0   0]\n",
      " [  0   0   1 157 251 254 255 217  40  77 246 254 255 255 255 255 255 255\n",
      "  255 255 254 242 131  22   0   0   0   0]\n",
      " [  0   0   0  94 234 254 255 218  50 140 254 254 255 255 255 255 255 255\n",
      "  255 254 252 131  32   0   0   0   0   0]\n",
      " [  0   0   0  21 172 252 255 249 227 247 254 253 239 248 254 255 255 255\n",
      "  254 253 207   9   0   0   0   0   0   0]\n",
      " [  0   0   0  10 142 251 255 254 254 254 254 234 116 165 253 254 255 255\n",
      "  254 234  95   0   0   0   0   0   0   0]\n",
      " [  0   0   0  32 203 254 255 255 255 254 253 202  35  37 235 254 255 255\n",
      "  254 217  39   0   0   0   0   0   0   0]\n",
      " [  0   0   0  37 217 254 255 255 255 254 221  91   7  21 234 254 255 255\n",
      "  254 215  37   0   0   0   0   0   0   0]\n",
      " [  0   0   0  37 217 254 255 255 254 254 115   4   0  32 245 254 255 254\n",
      "  246 127   8   0   0   0   0   0   0   0]\n",
      " [  0   0   0  37 217 254 255 255 254 244  46   0   0   9 222 254 255 254\n",
      "  208  46   0   0   0   0   0   0   0   0]\n",
      " [  0   0   0  37 217 254 255 255 252 177   7   0   0   4 217 254 255 250\n",
      "  140   9   0   0   0   0   0   0   0   0]\n",
      " [  0   0   0  37 217 254 255 254 245 114   0   0   0   4 217 254 255 233\n",
      "   82   2   0   0   0   0   0   0   0   0]\n",
      " [  0   0   0  37 217 254 255 254 220  50   0   0   0   4 217 254 254 217\n",
      "   39   0   0   0   0   0   0   0   0   0]\n",
      " [  0   0   0  37 217 254 255 247 159  20   0   0   0   4 203 254 254 203\n",
      "   32   0   0   0   0   0   0   0   0   0]\n",
      " [  0   0   0  82 233 254 254 216  38   0   0   0   0   0 115 240 233 110\n",
      "    4   0   0   0   0   0   0   0   0   0]\n",
      " [  0   0   0 125 249 254 254 170  21   0   0   0   0   0  32 111  82  18\n",
      "    0   0   0   0   0   0   0   0   0   0]\n",
      " [  0   0   0 114 245 254 251  83   3   0   0   0   0   0   0   3   2   0\n",
      "    0   0   0   0   0   0   0   0   0   0]\n",
      " [  0   0   0  20 109 127 113   7   0   0   0   0   0   0   0   0   0   0\n",
      "    0   0   0   0   0   0   0   0   0   0]\n",
      " [  0   0   0   0   3   4   4   0   0   0   0   0   0   0   0   0   0   0\n",
      "    0   0   0   0   0   0   0   0   0   0]\n",
      " [  0   0   0   0   0   0   0   0   0   0   0   0   0   0   0   0   0   0\n",
      "    0   0   0   0   0   0   0   0   0   0]]\n"
     ]
    }
   ],
   "source": [
    "print(X_train[0])"
   ]
  },
  {
   "cell_type": "code",
   "execution_count": 4,
   "id": "a87352b7",
   "metadata": {},
   "outputs": [
    {
     "name": "stdout",
     "output_type": "stream",
     "text": [
      "23\n"
     ]
    }
   ],
   "source": [
    "print(y_train[0])"
   ]
  },
  {
   "cell_type": "code",
   "execution_count": 5,
   "id": "b908bda3",
   "metadata": {},
   "outputs": [
    {
     "data": {
      "text/plain": [
       "<matplotlib.image.AxesImage at 0x19b920bcd00>"
      ]
     },
     "execution_count": 5,
     "metadata": {},
     "output_type": "execute_result"
    },
    {
     "data": {
      "image/png": "[encoded data removed]",
      "text/plain": [
       "<Figure size 432x288 with 1 Axes>"
      ]
     },
     "metadata": {
      "needs_background": "light"
     },
     "output_type": "display_data"
    }
   ],
   "source": [
    "plt.imshow(X_train[0].reshape(28,28)) "
   ]
  },
  {
   "cell_type": "code",
   "execution_count": 6,
   "id": "233ff70b",
   "metadata": {},
   "outputs": [],
   "source": [
    "#print(y_train[4])"
   ]
  },
  {
   "cell_type": "code",
   "execution_count": 7,
   "id": "a1c488fc",
   "metadata": {},
   "outputs": [],
   "source": [
    "#plt.imshow(X_train[4].reshape(28,28)) "
   ]
  },
  {
   "cell_type": "code",
   "execution_count": 8,
   "id": "1c34dbb9",
   "metadata": {},
   "outputs": [
    {
     "data": {
      "text/plain": [
       "(124800, 28, 28)"
      ]
     },
     "execution_count": 8,
     "metadata": {},
     "output_type": "execute_result"
    }
   ],
   "source": [
    "X_train.shape"
   ]
  },
  {
   "cell_type": "code",
   "execution_count": 9,
   "id": "1ac35baa",
   "metadata": {},
   "outputs": [
    {
     "data": {
      "image/png": "[encoded data removed]",
      "text/plain": [
       "<Figure size 936x576 with 20 Axes>"
      ]
     },
     "metadata": {
      "needs_background": "light"
     },
     "output_type": "display_data"
    }
   ],
   "source": [
    "fig = plt.figure(figsize = (13,8))\n",
    "for i in range(0,20):\n",
    "    plt.subplot(4,5,i+1)\n",
    "    plt.imshow(X_train[i].reshape(28,28)) \n",
    "    plt.axis('off')\n",
    "\n"
   ]
  },
  {
   "cell_type": "code",
   "execution_count": 10,
   "id": "2e2537c6",
   "metadata": {},
   "outputs": [
    {
     "data": {
      "image/png": "[encoded data removed]",
      "text/plain": [
       "<Figure size 936x576 with 20 Axes>"
      ]
     },
     "metadata": {
      "needs_background": "light"
     },
     "output_type": "display_data"
    }
   ],
   "source": [
    "import random\n",
    "\n",
    "fig = plt.figure(figsize = (13,8))\n",
    "for i in range(0,20):\n",
    "    plt.subplot(4,5,i+1)\n",
    "    plt.imshow(X_train[i + random.randint(1, X_train.shape[0])].reshape(28,28)) \n",
    "    plt.axis('off')"
   ]
  },
  {
   "cell_type": "markdown",
   "id": "a205fe6a",
   "metadata": {},
   "source": [
    "# HYPER PARAMETER TUNING\n",
    "\n",
    "1. USE EARLY STOPPING TO DETERMINE IDEA NUMBER OF EPOCHS.\n",
    "2. DropOut Rate\n",
    "3. Take real time image as an input n predict. Display actual image first then show what is predicted.\n",
    "4. save model"
   ]
  },
  {
   "cell_type": "code",
   "execution_count": 11,
   "id": "123f0c71",
   "metadata": {},
   "outputs": [
    {
     "name": "stdout",
     "output_type": "stream",
     "text": [
      "[23  7 16 ... 13 15 19]\n"
     ]
    }
   ],
   "source": [
    "print(y_train)"
   ]
  },
  {
   "cell_type": "code",
   "execution_count": 12,
   "id": "24455923",
   "metadata": {},
   "outputs": [
    {
     "data": {
      "text/plain": [
       "(array([ 1,  2,  3,  4,  5,  6,  7,  8,  9, 10, 11, 12, 13, 14, 15, 16, 17,\n",
       "        18, 19, 20, 21, 22, 23, 24, 25, 26], dtype=uint8),\n",
       " array([4800, 4800, 4800, 4800, 4800, 4800, 4800, 4800, 4800, 4800, 4800,\n",
       "        4800, 4800, 4800, 4800, 4800, 4800, 4800, 4800, 4800, 4800, 4800,\n",
       "        4800, 4800, 4800, 4800], dtype=int64))"
      ]
     },
     "execution_count": 12,
     "metadata": {},
     "output_type": "execute_result"
    }
   ],
   "source": [
    "np.unique(y_train, return_counts=True)"
   ]
  },
  {
   "cell_type": "code",
   "execution_count": 13,
   "id": "67681114",
   "metadata": {},
   "outputs": [],
   "source": [
    "## Plotting number of image count per letter\n",
    "\n",
    "# import string\n",
    "\n",
    "# #visualize number of  character classes \n",
    "# plt.figure(figsize=(15,9))\n",
    "\n",
    "# # Create a list of the alphabet characters\n",
    "# alphabet = list(string.ascii_uppercase)\n",
    "\n",
    "# sns.set(style='whitegrid')\n",
    "# g = sns.countplot(y_train, palette=\"icefire\")\n",
    "# plt.title(\"Distribution of Labels in Classes\")\n",
    "\n",
    "\n",
    "# # Set the tick labels to the alphabet characters\n",
    "# plt.xticks(range(26),alphabet)\n",
    "# plt.xlabel(None)\n"
   ]
  },
  {
   "cell_type": "markdown",
   "id": "f6edcc44",
   "metadata": {},
   "source": [
    "## Importing Tensorflow and related libraries for image processing"
   ]
  },
  {
   "cell_type": "code",
   "execution_count": 14,
   "id": "663a5cb5",
   "metadata": {},
   "outputs": [],
   "source": [
    "import tensorflow as tf\n",
    "from tensorflow.keras import layers\n",
    "from tensorflow.keras.models import Sequential\n",
    "from keras.preprocessing.image import ImageDataGenerator\n",
    "from sklearn.model_selection import train_test_split"
   ]
  },
  {
   "cell_type": "code",
   "execution_count": 15,
   "id": "8463096a",
   "metadata": {},
   "outputs": [],
   "source": [
    "from tensorflow.keras.utils import to_categorical\n",
    "\n",
    "## Normalize the data\n",
    "X_train = X_train.astype('float32') / 255\n",
    "X_test = X_test.astype('float32') / 255\n",
    "\n",
    "## To categorise with to_categorical index must start with 0\n",
    "y_train = y_train - 1\n",
    "y_test = y_test - 1\n",
    "\n",
    "y_train = to_categorical(y_train,26) # 26 output classes\n",
    "y_test = to_categorical(y_test,26)\n",
    "\n",
    "## Reshaping to data to add gray scale to the data\n",
    "# X_train = np.expand_dims(X_train, axis = -1)\n",
    "# X_test = np.expand_dims(X_test, axis = -1)\n",
    "\n",
    "X_train = X_train.reshape(-1,28,28,1)\n",
    "X_test = X_test.reshape(-1,28,28,1)\n",
    "\n",
    "## Splitting the data into training and validation sets\n",
    "X_train, X_val, y_train, y_val = train_test_split(X_train,y_train, test_size = 0.2, random_state = 51 )\n",
    "\n",
    "## Data Augmentation\n",
    "datagen = ImageDataGenerator(\n",
    "    zoom_range = 0.1,\n",
    "    shear_range = 0.1,\n",
    "    rotation_range=20,\n",
    "    horizontal_flip=True)"
   ]
  },
  {
   "cell_type": "code",
   "execution_count": 16,
   "id": "d15a3115",
   "metadata": {},
   "outputs": [
    {
     "data": {
      "text/plain": [
       "array([0., 0., 0., 0., 0., 0., 0., 0., 0., 0., 0., 0., 0., 0., 0., 0., 0.,\n",
       "       0., 0., 0., 0., 0., 0., 1., 0., 0.], dtype=float32)"
      ]
     },
     "execution_count": 16,
     "metadata": {},
     "output_type": "execute_result"
    }
   ],
   "source": [
    "y_train[0]"
   ]
  },
  {
   "cell_type": "code",
   "execution_count": 17,
   "id": "21fd9e4c",
   "metadata": {},
   "outputs": [
    {
     "data": {
      "text/plain": [
       "(99840, 28, 28, 1)"
      ]
     },
     "execution_count": 17,
     "metadata": {},
     "output_type": "execute_result"
    }
   ],
   "source": [
    "X_train.shape"
   ]
  },
  {
   "cell_type": "markdown",
   "id": "88c8b227",
   "metadata": {},
   "source": [
    "## Building the CNN"
   ]
  },
  {
   "cell_type": "code",
   "execution_count": 18,
   "id": "6952301d",
   "metadata": {},
   "outputs": [],
   "source": [
    "cnn = tf.keras.models.Sequential()"
   ]
  },
  {
   "cell_type": "code",
   "execution_count": 19,
   "id": "7a3cb0d1",
   "metadata": {},
   "outputs": [],
   "source": [
    "## adding 1st convolution layer\n",
    "cnn.add(tf.keras.layers.Conv2D(filters = 32, kernel_size=3, strides =1, activation = 'relu', input_shape = (28,28,1)))\n",
    "## adding 1st pooling layer\n",
    "cnn.add(tf.keras.layers.MaxPool2D(pool_size = 2, strides = 1))\n",
    "\n",
    "## adding second layer of convolution layer\n",
    "cnn.add(tf.keras.layers.Conv2D(filters = 32, kernel_size=3, strides =1, activation = 'relu'))\n",
    "## adding second layer of pooling layer\n",
    "cnn.add(tf.keras.layers.MaxPool2D(pool_size = 2, strides = 1))\n",
    "\n",
    "## flatting input\n",
    "cnn.add(tf.keras.layers.Flatten())\n",
    "\n",
    "## Full Connection\n",
    "cnn.add(tf.keras.layers.Dense(units = 128, activation = 'relu'))\n",
    "\n",
    "## Output layer\n",
    "cnn.add(tf.keras.layers.Dense(units = 26, activation = 'softmax'))\n"
   ]
  },
  {
   "cell_type": "markdown",
   "id": "3f6cc8ba",
   "metadata": {},
   "source": [
    "## Compiling the CNN"
   ]
  },
  {
   "cell_type": "markdown",
   "id": "01214a3f",
   "metadata": {},
   "source": [
    "## Try using sparse cross entropy"
   ]
  },
  {
   "cell_type": "code",
   "execution_count": 20,
   "id": "5c45fc29",
   "metadata": {},
   "outputs": [],
   "source": [
    "cnn.compile(optimizer = 'adam', loss = 'categorical_crossentropy', metrics = ['accuracy'])"
   ]
  },
  {
   "cell_type": "code",
   "execution_count": 24,
   "id": "b1fda649",
   "metadata": {},
   "outputs": [],
   "source": [
    "## Early stopping to avoid overfitting\n",
    "early_stopping = tf.keras.callbacks.EarlyStopping(\n",
    "    monitor=\"val_loss\",\n",
    "    min_delta=0.0001,\n",
    "    patience=20,\n",
    "    verbose=1,\n",
    "    mode=\"auto\",\n",
    "    baseline=None,\n",
    "    restore_best_weights=False,\n",
    ")"
   ]
  },
  {
   "cell_type": "code",
   "execution_count": null,
   "id": "e05c35e6",
   "metadata": {},
   "outputs": [
    {
     "name": "stdout",
     "output_type": "stream",
     "text": [
      "Epoch 1/25\n",
      "3120/3120 [==============================] - 103s 33ms/step - loss: 0.4039 - accuracy: 0.8656 - val_loss: 0.3519 - val_accuracy: 0.8808\n",
      "Epoch 2/25\n",
      "3120/3120 [==============================] - 103s 33ms/step - loss: 0.3666 - accuracy: 0.8775 - val_loss: 0.3416 - val_accuracy: 0.8872\n",
      "Epoch 3/25\n",
      "3120/3120 [==============================] - 104s 33ms/step - loss: 0.3463 - accuracy: 0.8842 - val_loss: 0.3357 - val_accuracy: 0.8873\n",
      "Epoch 4/25\n",
      "3120/3120 [==============================] - 105s 34ms/step - loss: 0.3253 - accuracy: 0.8906 - val_loss: 0.3098 - val_accuracy: 0.8939\n",
      "Epoch 5/25\n",
      "3120/3120 [==============================] - 103s 33ms/step - loss: 0.3157 - accuracy: 0.8924 - val_loss: 0.3103 - val_accuracy: 0.8984\n",
      "Epoch 6/25\n",
      "3120/3120 [==============================] - 104s 33ms/step - loss: 0.3047 - accuracy: 0.8951 - val_loss: 0.2895 - val_accuracy: 0.9029\n",
      "Epoch 7/25\n",
      "3120/3120 [==============================] - 104s 33ms/step - loss: 0.2926 - accuracy: 0.8989 - val_loss: 0.3084 - val_accuracy: 0.8970\n",
      "Epoch 8/25\n",
      "3120/3120 [==============================] - 104s 33ms/step - loss: 0.2872 - accuracy: 0.9012 - val_loss: 0.2852 - val_accuracy: 0.9091\n",
      "Epoch 9/25\n",
      "3120/3120 [==============================] - 105s 34ms/step - loss: 0.2783 - accuracy: 0.9045 - val_loss: 0.3308 - val_accuracy: 0.8901\n",
      "Epoch 10/25\n",
      "3120/3120 [==============================] - 104s 33ms/step - loss: 0.2748 - accuracy: 0.9041 - val_loss: 0.3053 - val_accuracy: 0.8970\n",
      "Epoch 11/25\n",
      "3120/3120 [==============================] - 104s 33ms/step - loss: 0.2662 - accuracy: 0.9075 - val_loss: 0.3021 - val_accuracy: 0.8997\n",
      "Epoch 12/25\n",
      "3120/3120 [==============================] - 104s 33ms/step - loss: 0.2655 - accuracy: 0.9080 - val_loss: 0.3110 - val_accuracy: 0.9001\n",
      "Epoch 13/25\n",
      "3120/3120 [==============================] - 104s 33ms/step - loss: 0.2613 - accuracy: 0.9085 - val_loss: 0.3060 - val_accuracy: 0.9026\n",
      "Epoch 14/25\n",
      "3120/3120 [==============================] - 104s 33ms/step - loss: 0.2569 - accuracy: 0.9114 - val_loss: 0.3080 - val_accuracy: 0.9004\n",
      "Epoch 15/25\n",
      "3120/3120 [==============================] - 104s 33ms/step - loss: 0.2543 - accuracy: 0.9108 - val_loss: 0.3222 - val_accuracy: 0.9002\n",
      "Epoch 16/25\n",
      "3120/3120 [==============================] - 104s 33ms/step - loss: 0.2486 - accuracy: 0.9124 - val_loss: 0.3066 - val_accuracy: 0.8984\n",
      "Epoch 17/25\n",
      "3120/3120 [==============================] - 105s 34ms/step - loss: 0.2457 - accuracy: 0.9136 - val_loss: 0.3166 - val_accuracy: 0.8984\n",
      "Epoch 18/25\n",
      "3120/3120 [==============================] - 104s 33ms/step - loss: 0.2439 - accuracy: 0.9137 - val_loss: 0.3015 - val_accuracy: 0.9025\n",
      "Epoch 19/25\n",
      "1469/3120 [=============>................] - ETA: 53s - loss: 0.2368 - accuracy: 0.9164"
     ]
    }
   ],
   "source": [
    "history = cnn.fit(datagen.flow(X_train, y_train, batch_size = 32), epochs = 25 , validation_data = (X_val, y_val))"
   ]
  },
  {
   "cell_type": "code",
   "execution_count": null,
   "id": "20e93242",
   "metadata": {},
   "outputs": [],
   "source": [
    "cnn.save('Alphabet_Recognizer.h5')"
   ]
  },
  {
   "cell_type": "code",
   "execution_count": null,
   "id": "5f1d8b31",
   "metadata": {},
   "outputs": [],
   "source": [
    "from keras.models import load_model\n",
    "\n",
    "loaded_model = load_model('Alphabet_Recognizer.h5')"
   ]
  },
  {
   "cell_type": "code",
   "execution_count": null,
   "id": "e2794ec5",
   "metadata": {},
   "outputs": [],
   "source": [
    "## Evaluate the model on the test set\n",
    "test_loss, test_accuracy = model.evaluate(X_test, y_test)"
   ]
  },
  {
   "cell_type": "code",
   "execution_count": null,
   "id": "407ed576",
   "metadata": {},
   "outputs": [],
   "source": []
  }
 ],
 "metadata": {
  "kernelspec": {
   "display_name": "Python 3 (ipykernel)",
   "language": "python",
   "name": "python3"
  },
  "language_info": {
   "codemirror_mode": {
    "name": "ipython",
    "version": 3
   },
   "file_extension": ".py",
   "mimetype": "text/x-python",
   "name": "python",
   "nbconvert_exporter": "python",
   "pygments_lexer": "ipython3",
   "version": "3.9.7"
  }
 },
 "nbformat": 4,
 "nbformat_minor": 5
}
